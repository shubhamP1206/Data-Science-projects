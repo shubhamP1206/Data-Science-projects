{
  "nbformat": 4,
  "nbformat_minor": 0,
  "metadata": {
    "colab": {
      "name": "rock paper scissor.ipynb",
      "provenance": [],
      "collapsed_sections": []
    },
    "kernelspec": {
      "name": "python3",
      "display_name": "Python 3"
    },
    "language_info": {
      "name": "python"
    }
  },
  "cells": [
    {
      "cell_type": "code",
      "execution_count": 12,
      "metadata": {
        "colab": {
          "base_uri": "https://localhost:8080/"
        },
        "id": "LDhV-qiisZrc",
        "outputId": "e8aa4187-854f-457d-8143-8f051fbd9633"
      },
      "outputs": [
        {
          "output_type": "stream",
          "name": "stdout",
          "text": [
            "ROCK PAPER SCISSOR \n",
            "Let's start the game \n",
            "------------------------------------------------------------\n",
            "Player 1 Rock/Paper/Scissors - Rock\n",
            "Player 2 Rock/Paper/Scissor - Paper\n",
            "Player 2 wins!\n"
          ]
        }
      ],
      "source": [
        "print(\"ROCK PAPER SCISSOR \")\n",
        "print(\"Let's start the game \")\n",
        "print(\"-\"*60)\n",
        "\n",
        "player1 = str(input(\"Player 1 Rock/Paper/Scissors - \"))\n",
        "player2 = str(input(\"Player 2 Rock/Paper/Scissor - \"))\n",
        "\n",
        "if(player1 == \"Rock\") and (player2 == \"Rock\"):\n",
        "  print(\"It's a Tie\")\n",
        "elif(player1 == \"Rock\") and (player2 == \"Scissor\"):\n",
        "  print(\"Player 1 wins!\")\n",
        "elif(player1 == \"Rock\") and (player2 == \"Paper\"):\n",
        "  print(\"Player 2 wins!\")\n",
        "elif(player1 == \"Paper\") and (player2 == \"Rock\"):\n",
        "  print(\"Player 1 wins!\")\n",
        "elif(player1 == \"Paper\") and (player2 == \"Paper\"):\n",
        "  print(\"It's a Tie\")\n",
        "elif(player1 == \"Paper\") and (player2 == \"Scissor\"):\n",
        "  print(\"Player 2 wins!\")\n",
        "elif(player1 == \"Scissor\") and (player2 == \"Scissor\"):\n",
        "  print(\"It's a Tie\")\n",
        "elif(player1 == \"Scissor\") and (player2 == \"Rock\"):\n",
        "  print(\"Player 2 wins !\")\n",
        "elif(player1 == \"Scissor\") and (player2 == \"Paper\"):\n",
        "  print(\"Player 1 wins !\")\n",
        "else:\n",
        "    print(\"Choose correct option\")\n"
      ]
    },
    {
      "cell_type": "code",
      "source": [
        ""
      ],
      "metadata": {
        "id": "TDwdMHoc6hdC"
      },
      "execution_count": null,
      "outputs": []
    },
    {
      "cell_type": "code",
      "source": [
        ""
      ],
      "metadata": {
        "id": "Bd16nfjZ6eqM"
      },
      "execution_count": null,
      "outputs": []
    },
    {
      "cell_type": "code",
      "source": [
        ""
      ],
      "metadata": {
        "id": "azO9ph9U6c-k"
      },
      "execution_count": null,
      "outputs": []
    },
    {
      "cell_type": "code",
      "source": [
        ""
      ],
      "metadata": {
        "id": "csVLSnbI6ZxY"
      },
      "execution_count": null,
      "outputs": []
    }
  ]
}