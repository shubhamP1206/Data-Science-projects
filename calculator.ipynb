{
  "nbformat": 4,
  "nbformat_minor": 0,
  "metadata": {
    "colab": {
      "name": "calculator.ipynb",
      "provenance": []
    },
    "kernelspec": {
      "name": "python3",
      "display_name": "Python 3"
    },
    "language_info": {
      "name": "python"
    }
  },
  "cells": [
    {
      "cell_type": "code",
      "source": [
        "print(\"CALCULATOR\")\n",
        "num1, operator, num2 = map(str,input(\"Enter your number : \").split())\n",
        "\n",
        "num1 = int(num1)      \n",
        "num2 = int(num2)         \n",
        "\n",
        "\n",
        "def add(a,b):       \n",
        "    addition = a+b\n",
        "    print(f\"The sum of {a} and {b} is {addition}\")\n",
        "    return addition\n",
        "\n",
        "def sub(a,b):      \n",
        "    subraction = a-b\n",
        "    print(f\"The difference between {a} and {b} is {subraction}\")\n",
        "    return subraction\n",
        "\n",
        "def mul(a,b):      \n",
        "    multiplication = a*b\n",
        "    print(f\"The product of {a} and {b} is {multiplication}\")\n",
        "    return multiplication\n",
        "\n",
        "def div(a,b):      \n",
        "    division = a/b\n",
        "    print(f\"The quotient of {a} and {b} is {division}\")\n",
        "    return division\n",
        "\n",
        "def mod(a,b):     \n",
        "    modulus = a%b\n",
        "    print(f\"The modulus of {a} and {b} is {percentage}\")\n",
        "    return modulus\n",
        "\n",
        "\n",
        "\n",
        "if operator =='+':\n",
        "    add(num1, num2)\n",
        "    \n",
        "elif operator == '-':\n",
        "    subract(num1, num2)\n",
        "    \n",
        "elif operator == '*':\n",
        "    mul(num1, num2)\n",
        "    \n",
        "elif operator == '/':\n",
        "    divide(num1, num2)\n",
        "    \n",
        "elif operator == '%':\n",
        "    modulus(num1, num2)\n",
        "    \n",
        "else:\n",
        "    print(\"Give correct input or Invalid input\")"
      ],
      "metadata": {
        "id": "3XeItbep5Wne",
        "colab": {
          "base_uri": "https://localhost:8080/"
        },
        "outputId": "8bd5e87d-35e8-456c-e8a3-e2fb2b502f12"
      },
      "execution_count": 3,
      "outputs": [
        {
          "output_type": "stream",
          "name": "stdout",
          "text": [
            "Enter your number : 10 + 12\n",
            "The sum of 10 and 12 is 22\n"
          ]
        }
      ]
    },
    {
      "cell_type": "code",
      "source": [
        ""
      ],
      "metadata": {
        "id": "l6xdql6Inq-w"
      },
      "execution_count": null,
      "outputs": []
    },
    {
      "cell_type": "code",
      "source": [
        ""
      ],
      "metadata": {
        "id": "JsmhfHNbnDBR"
      },
      "execution_count": null,
      "outputs": []
    },
    {
      "cell_type": "code",
      "source": [
        ""
      ],
      "metadata": {
        "id": "BdR27b7Cm4og"
      },
      "execution_count": null,
      "outputs": []
    }
  ]
}