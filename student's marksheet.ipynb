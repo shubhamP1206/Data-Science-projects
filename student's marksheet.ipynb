{
  "nbformat": 4,
  "nbformat_minor": 0,
  "metadata": {
    "colab": {
      "name": "project 1.ipynb",
      "provenance": [],
      "collapsed_sections": []
    },
    "kernelspec": {
      "name": "python3",
      "display_name": "Python 3"
    },
    "language_info": {
      "name": "python"
    }
  },
  "cells": [
    {
      "cell_type": "markdown",
      "source": [
        "# **STUDENT'S MARKSHEET**\n"
      ],
      "metadata": {
        "id": "rH5z3RZ2N3eV"
      }
    },
    {
      "cell_type": "code",
      "source": [
        "name = str(input(\"Name of the student: \"))\n",
        "standard = str(input(\"Std. of the student: \"))\n",
        "division = str(input(\"Division of the student: \"))\n",
        "roll = int(input(\"Roll no. of the student: \"))\n",
        "english = int(input(\"enter marks obtained in english: \"))\n",
        "maths = int(input(\"enter marks obtained in mathmatics: \"))\n",
        "science = int(input(\"enter marks obtained in science: \"))\n",
        "print(\"Student's name - \" + str(name))\n",
        "print(\"Standard - \" + str(standard))\n",
        "print(\"division - \" + str(division))\n",
        "print(\"Roll No. - \" + str(roll))\n",
        "print(\"Marks obtained in English - \" + str(english))\n",
        "print(\"Marks obtained in Maths - \" + str(maths))\n",
        "print(\"Marks obtained in Science - \" + str(science))\n",
        "total=english+maths+science \n",
        "print(\"total marks obtained by \" + name + \" - \" + str(total))\n",
        "percent=total/3\n",
        "print(\"student percentage - \" + str(percent))"
      ],
      "metadata": {
        "colab": {
          "base_uri": "https://localhost:8080/"
        },
        "id": "Vz37qdBdiP3g",
        "outputId": "f2eb0e6a-63f5-426f-db5a-412cc44ff32a"
      },
      "execution_count": null,
      "outputs": [
        {
          "output_type": "stream",
          "name": "stdout",
          "text": [
            "Name of the student: Shubham Pattanayak\n",
            "Std. of the student: 10\n",
            "Division of the student: c\n",
            "Roll no. of the student: 19\n",
            "enter marks obtained in english: 80\n",
            "enter marks obtained in mathmatics: 75\n",
            "enter marks obtained in science: 79\n",
            "Student's name - Shubham Pattanayak\n",
            "Standard - 10\n",
            "division - c\n",
            "Roll No. - 19\n",
            "Marks obtained in English - 80\n",
            "Marks obtained in Maths - 75\n",
            "Marks obtained in Science - 79\n",
            "total marks obtained by Shubham Pattanayak - 234\n",
            "student percentage - 78.0\n"
          ]
        }
      ]
    },
    {
      "cell_type": "code",
      "source": [
        ""
      ],
      "metadata": {
        "id": "YVhL3hFa1bCZ"
      },
      "execution_count": null,
      "outputs": []
    },
    {
      "cell_type": "code",
      "source": [
        ""
      ],
      "metadata": {
        "id": "vHqqeq_s0z9K"
      },
      "execution_count": null,
      "outputs": []
    },
    {
      "cell_type": "code",
      "source": [
        ""
      ],
      "metadata": {
        "id": "Qc_LQ8eU0Fg9"
      },
      "execution_count": null,
      "outputs": []
    },
    {
      "cell_type": "code",
      "source": [
        ""
      ],
      "metadata": {
        "id": "XnkzQfk8ynsv"
      },
      "execution_count": null,
      "outputs": []
    },
    {
      "cell_type": "code",
      "source": [
        ""
      ],
      "metadata": {
        "id": "zmAgiBQbyCcF"
      },
      "execution_count": null,
      "outputs": []
    },
    {
      "cell_type": "code",
      "source": [
        ""
      ],
      "metadata": {
        "id": "pyn3oUrJxwBU"
      },
      "execution_count": null,
      "outputs": []
    },
    {
      "cell_type": "code",
      "source": [
        ""
      ],
      "metadata": {
        "colab": {
          "base_uri": "https://localhost:8080/"
        },
        "id": "e9dId4quu77o",
        "outputId": "ffeb2d4d-bed3-4be0-ae8c-30a7b6797632"
      },
      "execution_count": null,
      "outputs": [
        {
          "output_type": "stream",
          "name": "stdout",
          "text": [
            "3\n"
          ]
        }
      ]
    },
    {
      "cell_type": "code",
      "source": [
        ""
      ],
      "metadata": {
        "id": "nMA5mHCkxbwG"
      },
      "execution_count": null,
      "outputs": []
    },
    {
      "cell_type": "code",
      "source": [
        ""
      ],
      "metadata": {
        "id": "Kg9B70K4uHdL"
      },
      "execution_count": null,
      "outputs": []
    },
    {
      "cell_type": "code",
      "source": [
        ""
      ],
      "metadata": {
        "id": "i060yDmytwJv"
      },
      "execution_count": null,
      "outputs": []
    },
    {
      "cell_type": "code",
      "source": [
        ""
      ],
      "metadata": {
        "id": "26accF_NsPT3"
      },
      "execution_count": null,
      "outputs": []
    },
    {
      "cell_type": "code",
      "source": [
        ""
      ],
      "metadata": {
        "id": "GM-SHeMrojBb"
      },
      "execution_count": null,
      "outputs": []
    },
    {
      "cell_type": "code",
      "source": [
        ""
      ],
      "metadata": {
        "id": "LynXw8K8ogVI"
      },
      "execution_count": null,
      "outputs": []
    }
  ]
}