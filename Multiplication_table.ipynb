{
  "nbformat": 4,
  "nbformat_minor": 0,
  "metadata": {
    "colab": {
      "name": "Multiplication table.ipynb",
      "provenance": []
    },
    "kernelspec": {
      "name": "python3",
      "display_name": "Python 3"
    },
    "language_info": {
      "name": "python"
    }
  },
  "cells": [
    {
      "cell_type": "markdown",
      "source": [
        "# ***`MULTIPLICATION TABLE`***"
      ],
      "metadata": {
        "id": "tB1a9b9o4pza"
      }
    },
    {
      "cell_type": "code",
      "source": [
        "print(\"MULTIPLICATION TABLE\")\n",
        "print(\"*\"* 50)\n",
        "\n",
        "a = int(input(\"Enter the multiple \"))\n",
        "i = 1 \n",
        "\n",
        "while(i<=10):\n",
        "   print(a,\"x\",i,\"=\",a*i)\n",
        "\n",
        "   i = i+1\n",
        "   "
      ],
      "metadata": {
        "colab": {
          "base_uri": "https://localhost:8080/"
        },
        "id": "N5TYUQZw46PC",
        "outputId": "9fd42141-8725-4c43-c18e-5dd2b5f20939"
      },
      "execution_count": 30,
      "outputs": [
        {
          "output_type": "stream",
          "name": "stdout",
          "text": [
            "MULTIPLICATION TABLE\n",
            "**************************************************\n",
            "Enter the multiple 15\n",
            "15 x 1 = 15\n",
            "15 x 2 = 30\n",
            "15 x 3 = 45\n",
            "15 x 4 = 60\n",
            "15 x 5 = 75\n",
            "15 x 6 = 90\n",
            "15 x 7 = 105\n",
            "15 x 8 = 120\n",
            "15 x 9 = 135\n",
            "15 x 10 = 150\n"
          ]
        }
      ]
    },
    {
      "cell_type": "code",
      "source": [
        ""
      ],
      "metadata": {
        "id": "Be6aQkjS_suG"
      },
      "execution_count": null,
      "outputs": []
    },
    {
      "cell_type": "code",
      "source": [
        ""
      ],
      "metadata": {
        "id": "zVVftJpZ_Uds"
      },
      "execution_count": null,
      "outputs": []
    },
    {
      "cell_type": "code",
      "source": [
        ""
      ],
      "metadata": {
        "id": "ZXFcn1wz-BrD"
      },
      "execution_count": null,
      "outputs": []
    },
    {
      "cell_type": "code",
      "source": [
        ""
      ],
      "metadata": {
        "id": "YuPcRtRA9zDi"
      },
      "execution_count": null,
      "outputs": []
    }
  ]
}